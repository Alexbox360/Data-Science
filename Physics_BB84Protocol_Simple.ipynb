{
  "cells": [
    {
      "cell_type": "markdown",
      "metadata": {
        "id": "view-in-github",
        "colab_type": "text"
      },
      "source": [
        "<a href=\"https://colab.research.google.com/github/Alexbox360/Data-Science/blob/main/BB84Protocol_Python_Pdc.ipynb\" target=\"_parent\"><img src=\"https://colab.research.google.com/assets/colab-badge.svg\" alt=\"Open In Colab\"/></a>"
      ]
    },
    {
      "cell_type": "code",
      "execution_count": null,
      "metadata": {
        "id": "uQQBob372zRe"
      },
      "outputs": [],
      "source": [
        "import numpy.random as ran\n",
        "import numpy as np\n",
        "import random"
      ]
    },
    {
      "cell_type": "code",
      "execution_count": null,
      "metadata": {
        "id": "6WNhOUUtwWpA"
      },
      "outputs": [],
      "source": [
        "sl = 30 # Length of string to send\n",
        "# Alice sends random string bits in a random basis.\n",
        "bitA = ran.randint(0, 2, sl) # Bits\n",
        "basA = ran.randint(0, 2, sl) # Basis"
      ]
    },
    {
      "cell_type": "code",
      "source": [
        "# Bob's measurements without Eve\n",
        "basB = ran.randint(0, 2, sl)\n",
        "bitB = np.zeros(sl, dtype=int)\n",
        "\n"
      ],
      "metadata": {
        "id": "M9ReRV_84frb"
      },
      "execution_count": null,
      "outputs": []
    },
    {
      "cell_type": "code",
      "execution_count": null,
      "metadata": {
        "id": "HtsEgiyyrUwY"
      },
      "outputs": [],
      "source": [
        "#Eve's measurements\n",
        "basE = ran.randint(0, 2, sl) # Basis selection for Eve\n",
        "bitE = np.zeros(sl, dtype=int)\n",
        "for i in range(0, sl):\n",
        "  if basE[i] == basA[i]: # Deterministic measurement\n",
        "    bitE[i] = bitA[i]\n",
        "  else: # No deterministic measurement\n",
        "    bitE[i] = ran.randint(0, 2)"
      ]
    },
    {
      "cell_type": "code",
      "execution_count": null,
      "metadata": {
        "id": "xBcjxs42rbIX"
      },
      "outputs": [],
      "source": [
        "# Bob selects randomly the basis for measurent of each received bit.\n",
        "basB = ran.randint(0, 2, sl)\n",
        "bitB = np.zeros(sl, dtype=int)\n",
        "\n",
        "# Measurement\n",
        "for i in range(0, sl):\n",
        "  if basB[i] == basE[i]: # Deterministic measurement\n",
        "    bitB[i] = bitE[i]\n",
        "  else: # No deterministic measurement\n",
        "    bitB[i] = ran.randint(0,2)"
      ]
    },
    {
      "cell_type": "code",
      "execution_count": null,
      "metadata": {
        "id": "srU85k23vQCW"
      },
      "outputs": [],
      "source": [
        "# Sifting step\n",
        "sifting_labels, ct = [], 0\n",
        "for i in range(sl):\n",
        "  if basB[i] == basA[i]:\n",
        "    sifting_labels.append(i)\n",
        "    ct += 1\n",
        "\n",
        "sifted_basis = np.zeros(ct)\n",
        "sifted_bitsA = np.zeros(ct)\n",
        "sifted_bitsB = np.zeros(ct)\n",
        "for i in range(ct):\n",
        "  sifted_basis[i] = basB[sifting_labels[i]]\n",
        "  sifted_bitsA[i] = bitA[sifting_labels[i]]\n",
        "  sifted_bitsB[i] = bitB[sifting_labels[i]]"
      ]
    },
    {
      "cell_type": "code",
      "execution_count": null,
      "metadata": {
        "id": "VMWSXuUlZ7ne"
      },
      "outputs": [],
      "source": [
        "# Parameter estimation step\n",
        "#guess = ran.randint(0, len(siftedbitsA), ran.randint(0, len(siftedbitsA)))\n",
        "label_list = np.arange(0, len(sifted_bitsA), 1)\n",
        "guess = ran.choice(label_list, int(len(sifted_bitsA)/2), replace=False)\n",
        "pct, nct = 0, 0\n",
        "for element in guess:\n",
        "  if sifted_bitsA[element] == sifted_bitsB[element]:\n",
        "    pct += 1\n",
        "  else:\n",
        "    nct += 1"
      ]
    },
    {
      "cell_type": "code",
      "execution_count": null,
      "metadata": {
        "colab": {
          "base_uri": "https://localhost:8080/"
        },
        "id": "rYO3Oa2J4h0_",
        "outputId": "e0121de0-2e64-4c84-d8cb-eeb547fd8612"
      },
      "outputs": [
        {
          "output_type": "execute_result",
          "data": {
            "text/plain": [
              "array([ 0, 10,  3, 16, 12, 13,  6, 14])"
            ]
          },
          "metadata": {},
          "execution_count": 8
        }
      ],
      "source": [
        "guess"
      ]
    },
    {
      "cell_type": "code",
      "execution_count": null,
      "metadata": {
        "colab": {
          "base_uri": "https://localhost:8080/"
        },
        "id": "-mgdo2mLdM9o",
        "outputId": "e548bb21-e52b-44a1-da23-e61a04ab5ee1"
      },
      "outputs": [
        {
          "output_type": "execute_result",
          "data": {
            "text/plain": [
              "25.0"
            ]
          },
          "metadata": {},
          "execution_count": 9
        }
      ],
      "source": [
        "# Error rate:\n",
        "(nct/(pct + nct))*100"
      ]
    },
    {
      "cell_type": "code",
      "execution_count": null,
      "metadata": {
        "id": "FgsqA57IdeqD"
      },
      "outputs": [],
      "source": [
        "# Error correction step\n",
        "# Erase guessed bits from sifted basis\n",
        "finalstrbas, finalstrbits = [], []\n",
        "for i in range(len(sifted_basis)):\n",
        "  if (i in guess) == False:\n",
        "    finalstrbas.append(sifted_basis[i])\n",
        "    finalstrbits.append(sifted_bitsA[i])"
      ]
    },
    {
      "cell_type": "code",
      "execution_count": null,
      "metadata": {
        "colab": {
          "base_uri": "https://localhost:8080/"
        },
        "id": "ZeutxSSbf2WV",
        "outputId": "edfd0a3e-e223-424e-f4d8-a1b8b0aabbf6"
      },
      "outputs": [
        {
          "output_type": "stream",
          "name": "stdout",
          "text": [
            "Length of final key is : 9\n"
          ]
        }
      ],
      "source": [
        "#print(finalstrbits)\n",
        "print(\"Length of final key is :\", len(finalstrbits))"
      ]
    },
    {
      "cell_type": "code",
      "source": [],
      "metadata": {
        "id": "Rihbc505adpu"
      },
      "execution_count": null,
      "outputs": []
    }
  ],
  "metadata": {
    "colab": {
      "provenance": [],
      "include_colab_link": true
    },
    "kernelspec": {
      "display_name": "Python 3",
      "name": "python3"
    },
    "language_info": {
      "name": "python"
    }
  },
  "nbformat": 4,
  "nbformat_minor": 0
}
