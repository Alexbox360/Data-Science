{
  "cells": [
    {
      "cell_type": "markdown",
      "metadata": {
        "id": "view-in-github",
        "colab_type": "text"
      },
      "source": [
        "<a href=\"https://colab.research.google.com/github/Alexbox360/Data-Science/blob/main/Copy_of_filt_mixFreqs.ipynb\" target=\"_parent\"><img src=\"https://colab.research.google.com/assets/colab-badge.svg\" alt=\"Open In Colab\"/></a>"
      ]
    },
    {
      "cell_type": "code",
      "execution_count": null,
      "id": "dd3e6ffa-7f9c-4653-8705-0861662c6dd0",
      "metadata": {
        "id": "dd3e6ffa-7f9c-4653-8705-0861662c6dd0"
      },
      "outputs": [],
      "source": [
        "import numpy as np\n",
        "import matplotlib.pyplot as plt"
      ]
    },
    {
      "cell_type": "code",
      "execution_count": null,
      "id": "a6d917ff-87b5-47fe-aa8c-815ead03cb28",
      "metadata": {
        "id": "a6d917ff-87b5-47fe-aa8c-815ead03cb28"
      },
      "outputs": [],
      "source": [
        "def filt_mixFreq(Ch, TT, FREQ):\n",
        "    ### Está función debe recibir datos sin ceros en TT.\n",
        "    TT1 = TT[Ch==1]\n",
        "\n",
        "    dTT1 = np.diff(TT1)\n",
        "    dTT = np.diff(TT)\n",
        "\n",
        "    ### Obtener límites para cada bloque\n",
        "    limsTT = (dTT > 0.1*1e6)\n",
        "    limsTT1 = (dTT1 > 0.1*1e6)\n",
        "    lims_indTT = np.where(limsTT==True)[0] + 1\n",
        "    lims_indTT1 = np.where(limsTT1==True)[0] + 1\n",
        "\n",
        "    # Número de bloques\n",
        "    nsegmtsTT = len(lims_indTT) + 1\n",
        "    nsegmtsTT1 = len(lims_indTT1) + 1\n",
        "\n",
        "    ### Obtener sub-arreglos por cada bloque\n",
        "    if  nsegmtsTT <= 1:\n",
        "      return TT, FREQ, Ch\n",
        "    subTT, subTT1, subCh = [], [], []\n",
        "    subTT.append( TT[:lims_indTT[0]] )\n",
        "    subTT1.append( TT1[:lims_indTT1[0]] )\n",
        "    subCh.append( Ch[:lims_indTT[0]] )\n",
        "\n",
        "    for i in range(nsegmtsTT - 2):\n",
        "        llTT, slTT = lims_indTT[i], lims_indTT[i + 1]\n",
        "        ll, sl = lims_indTT1[i], lims_indTT1[i + 1]\n",
        "        subTT1.append( TT1[ll:sl] )\n",
        "        subTT.append( TT[llTT:slTT] )\n",
        "        subCh.append( Ch[llTT:slTT] )\n",
        "\n",
        "    subTT.append( TT[lims_indTT[-1]:] )\n",
        "    subTT1.append( TT1[lims_indTT1[-1]:] )\n",
        "    subCh.append( Ch[lims_indTT[-1]:] )\n",
        "\n",
        "    ### Obtiene frecuencia para cada bloque\n",
        "    Freqs = np.zeros(len(subTT1))\n",
        "    for i in range(len(subTT1)):\n",
        "        Freqs[i] = (np.mean(np.diff(subTT1[i]))*81e-12)**-1\n",
        "\n",
        "    ### Crea TTF: arreglo sin frecuencias incorrectas.\n",
        "    mask = (Freqs < FREQ*1e6+(FREQ*1e6/100)*0.1) & (Freqs > FREQ*1e6-(FREQ*1e6/100)*0.1)\n",
        "\n",
        "    temp = []\n",
        "    for i in range(len(mask)):\n",
        "        if (mask[i] == True):\n",
        "            temp.append(subTT[i])\n",
        "    TTF = np.concatenate(temp)\n",
        "\n",
        "    return TTF, Freqs, subCh"
      ]
    },
    {
      "cell_type": "code",
      "execution_count": null,
      "id": "12e7b328-ba1b-429b-aac6-cc7b393048e0",
      "metadata": {
        "id": "12e7b328-ba1b-429b-aac6-cc7b393048e0"
      },
      "outputs": [],
      "source": [
        "def regresion_lineal(x, y):\n",
        "    # Calcula los coeficientes de la regresión lineal (pendiente y ordenada al origen)\n",
        "    n = len(x)\n",
        "    sum_x = np.sum(x)\n",
        "    sum_y = np.sum(y)\n",
        "    sum_xy = np.sum(x * y)\n",
        "    sum_x_squared = np.sum(x**2)\n",
        "\n",
        "    sum_x = int(sum_x)\n",
        "    sum_y = int(sum_y)\n",
        "    sum_xy = int(sum_xy)\n",
        "    sum_x_squared = int(sum_x_squared)\n",
        "\n",
        "    m = (n * sum_xy - sum_x * sum_y) / (n * sum_x_squared - sum_x**2)\n",
        "    b = (sum_y - m * sum_x) / n\n",
        "\n",
        "    return m, b\n",
        "\n",
        "def coeficiente_determinacion(x, y, m, b):\n",
        "    # Calcula el coeficiente de determinación (R^2)\n",
        "    y_pred = m * x + b\n",
        "    ss_total = np.sum((y - np.mean(y))**2)\n",
        "    ss_res = np.sum((y - y_pred)**2)\n",
        "    r_squared = 1 - (ss_res / ss_total)\n",
        "\n",
        "    return r_squared"
      ]
    },
    {
      "cell_type": "code",
      "source": [
        "for j in range(5):\n",
        "  for i in range(10):\n",
        "    F = np.array((j+1))\n",
        "    Ch = np.genfromtxt(str(j+1)+\"MCh\"+str(i+1)+\".txt\").T  + 1\n",
        "    TT = np.genfromtxt(str(j+1)+\"MTT\"+str(i+1)+\".txt\").T\n",
        "    if len(Ch) == len(TT):\n",
        "      TTF = TT[TT != 0]\n",
        "      Ch = Ch[TT != 0]\n",
        "      x = np.arange(0, len(TTF))\n",
        "      m, b = regresion_lineal(x, TTF)\n",
        "      r_squared = coeficiente_determinacion(x, TTF, m, b)\n",
        "      if r_squared < 0.999999:\n",
        "          TTF, Freqs, Ch = filt_mixFreq(Ch, TTF, F)\n",
        "          x = np.arange(0, len(TTF))\n",
        "          m, b = regresion_lineal(x, TTF)\n",
        "          r_squared = coeficiente_determinacion(x, TTF, m, b)\n",
        "          print(\"Para el archivo: \"+str(j+1)+\"MTT\"+str(i+1)+\" se tiene R2 = \",r_squared)\n",
        "      elif r_squared >= 0.999999:\n",
        "          print(\"Para el archivo: \"+str(j+1)+\"MTT\"+str(i+1)+\" se tiene R2 = \",r_squared)\n",
        "    else:\n",
        "      print(\"Existe una incompatibilidad critica en los archivos: \"+str(j+1)+\"MTT\"+str(i+1)+\" y \"+str(j+1)+\"MCh\"+str(i+1)+\".txt\")"
      ],
      "metadata": {
        "colab": {
          "base_uri": "https://localhost:8080/"
        },
        "id": "Z0SqfeIaPJwQ",
        "outputId": "f63455ad-766a-473c-95e4-bff9a2f2ce6d"
      },
      "id": "Z0SqfeIaPJwQ",
      "execution_count": null,
      "outputs": [
        {
          "output_type": "stream",
          "name": "stdout",
          "text": [
            "Para el archivo: 1MTT1 se tiene R2 =  0.9999997055329122\n",
            "Para el archivo: 1MTT2 se tiene R2 =  0.999999884732538\n",
            "Para el archivo: 1MTT3 se tiene R2 =  0.9999999363558633\n",
            "Para el archivo: 1MTT4 se tiene R2 =  0.9999999107957964\n",
            "Para el archivo: 1MTT5 se tiene R2 =  0.9999997603339104\n",
            "Para el archivo: 1MTT6 se tiene R2 =  0.9999999660643467\n",
            "Para el archivo: 1MTT7 se tiene R2 =  0.9999998588088203\n",
            "Para el archivo: 1MTT8 se tiene R2 =  0.9999999592389341\n",
            "Para el archivo: 1MTT9 se tiene R2 =  0.9999999300161103\n",
            "Para el archivo: 1MTT10 se tiene R2 =  0.9999999335138119\n",
            "Para el archivo: 2MTT1 se tiene R2 =  0.999999889770631\n",
            "Existe una incompatibilidad critica en los archivos: 2MTT2 y 2MCh2.txt\n",
            "Para el archivo: 2MTT3 se tiene R2 =  0.9999999753563646\n",
            "Para el archivo: 2MTT4 se tiene R2 =  0.9999999279780606\n",
            "Para el archivo: 2MTT5 se tiene R2 =  0.9999999790207386\n",
            "Existe una incompatibilidad critica en los archivos: 2MTT6 y 2MCh6.txt\n",
            "Para el archivo: 2MTT7 se tiene R2 =  0.999999974152336\n",
            "Para el archivo: 2MTT8 se tiene R2 =  0.9999999799650527\n",
            "Para el archivo: 2MTT9 se tiene R2 =  0.9999998931301953\n",
            "Para el archivo: 2MTT10 se tiene R2 =  0.9999999557320525\n",
            "Para el archivo: 3MTT1 se tiene R2 =  0.9999914294296569\n",
            "Para el archivo: 3MTT2 se tiene R2 =  0.999980143667103\n",
            "Para el archivo: 3MTT3 se tiene R2 =  0.9999480555896995\n",
            "Para el archivo: 3MTT4 se tiene R2 =  0.9999610472942766\n",
            "Para el archivo: 3MTT5 se tiene R2 =  0.9999550899779126\n",
            "Para el archivo: 3MTT6 se tiene R2 =  0.9999719573648913\n",
            "Para el archivo: 3MTT7 se tiene R2 =  0.9999262661729651\n",
            "Para el archivo: 3MTT8 se tiene R2 =  0.9999772462915533\n",
            "Para el archivo: 3MTT9 se tiene R2 =  0.9999913324573934\n",
            "Para el archivo: 3MTT10 se tiene R2 =  0.9999878903128515\n",
            "Para el archivo: 4MTT1 se tiene R2 =  0.9997689746930222\n",
            "Para el archivo: 4MTT2 se tiene R2 =  0.9999520984772975\n",
            "Para el archivo: 4MTT3 se tiene R2 =  0.9999791561419777\n",
            "Para el archivo: 4MTT4 se tiene R2 =  0.9999860335704669\n",
            "Para el archivo: 4MTT5 se tiene R2 =  0.9999817585739622\n",
            "Para el archivo: 4MTT6 se tiene R2 =  0.9999610226807925\n",
            "Para el archivo: 4MTT7 se tiene R2 =  0.9999604533583673\n",
            "Para el archivo: 4MTT8 se tiene R2 =  0.9999026663386077\n",
            "Para el archivo: 4MTT9 se tiene R2 =  0.9999813940226334\n",
            "Para el archivo: 4MTT10 se tiene R2 =  0.9999220645068206\n",
            "Para el archivo: 5MTT1 se tiene R2 =  0.9983627732054484\n",
            "Para el archivo: 5MTT2 se tiene R2 =  0.9999592168579761\n",
            "Para el archivo: 5MTT3 se tiene R2 =  0.9998816293595367\n",
            "Para el archivo: 5MTT4 se tiene R2 =  0.9999570525446511\n",
            "Existe una incompatibilidad critica en los archivos: 5MTT5 y 5MCh5.txt\n",
            "Para el archivo: 5MTT6 se tiene R2 =  0.9999599473123567\n",
            "Para el archivo: 5MTT7 se tiene R2 =  0.9999374860234098\n",
            "Para el archivo: 5MTT8 se tiene R2 =  0.9999641329407617\n",
            "Para el archivo: 5MTT9 se tiene R2 =  0.9999533955972353\n",
            "Para el archivo: 5MTT10 se tiene R2 =  0.9999341329510443\n"
          ]
        }
      ]
    }
  ],
  "metadata": {
    "kernelspec": {
      "display_name": "Python 3 (ipykernel)",
      "language": "python",
      "name": "python3"
    },
    "language_info": {
      "codemirror_mode": {
        "name": "ipython",
        "version": 3
      },
      "file_extension": ".py",
      "mimetype": "text/x-python",
      "name": "python",
      "nbconvert_exporter": "python",
      "pygments_lexer": "ipython3",
      "version": "3.11.5"
    },
    "colab": {
      "provenance": [],
      "include_colab_link": true
    }
  },
  "nbformat": 4,
  "nbformat_minor": 5
}