{
  "nbformat": 4,
  "nbformat_minor": 0,
  "metadata": {
    "colab": {
      "provenance": [],
      "mount_file_id": "1ofslsaWUw9ZqxcvFDtRpeiNd0Ka5ZG6F",
      "authorship_tag": "ABX9TyN4EnvQ9GDDlF5YUaWvA45A"
    },
    "kernelspec": {
      "name": "python3",
      "display_name": "Python 3"
    },
    "language_info": {
      "name": "python"
    }
  },
  "cells": [
    {
      "cell_type": "code",
      "execution_count": null,
      "metadata": {
        "id": "btVqErMUOwAX"
      },
      "outputs": [],
      "source": [
        "import numpy as np\n",
        "from sklearn.linear_model import SGDRegressor\n",
        "from sklearn.preprocessing import StandardScaler\n",
        "import matplotlib.pyplot as plt\n",
        "from sklearn.metrics import mean_squared_error, r2_score\n",
        "from sklearn.model_selection import cross_validate\n",
        "from sklearn.metrics import make_scorer\n",
        "import re\n",
        "from sklearn.model_selection import train_test_split\n",
        "from sklearn.model_selection import cross_val_score, KFold"
      ]
    },
    {
      "cell_type": "code",
      "source": [
        "def size():\n",
        "  Documento = open('/content/drive/MyDrive/olympic100m_men.txt','r')\n",
        "  a = sum(1 for line in Documento)\n",
        "  Documento.close()\n",
        "  return a\n",
        "\n",
        "filas = size()\n",
        "f = open('/content/drive/MyDrive/olympic100m_men.txt','r')\n",
        "data = np.zeros([filas,2])\n",
        "counter = 0\n",
        "grado_mas_1 = 6\n",
        "for line in f:\n",
        "  data[counter] = line.split(',')\n",
        "  counter = counter + 1\n",
        "f.close()\n",
        "\n",
        "X = (data[:,0] / data[:,0].mean()).reshape(-1,1)\n",
        "y = data[:,1] / data[:,1].mean()\n",
        "X_train, X_test, y_train, y_test = train_test_split(X, y, test_size=0.3, random_state=68)\n",
        "\n",
        "def train_model(x_tr, y_tr, x_tst, y_tst):\n",
        "    try:\n",
        "        reg = SGDRegressor(max_iter=100000, tol=1e-4)\n",
        "        reg.fit(x_tr, y_tr)\n",
        "    except Exception as e:\n",
        "        msg = f'Error durante el entrenamiento: {e}'\n",
        "        raise Exception(msg) from e\n",
        "    else:\n",
        "        train_score = reg.score(x_tr, y_tr)\n",
        "        test_score = reg.score(x_tst, y_tst)\n",
        "        print('Entrenamiento SGD completado')\n",
        "        print('Score del conjunto de entrenamiento: {:.3f}'.format(train_score))\n",
        "        print('Score del conjunto de prueba: {:.3f}'.format(test_score))\n",
        "        y_pred = reg.predict(x_tst)\n",
        "        return y_pred\n",
        "\n",
        "def evaluate_regression_model(X_var, y_var):\n",
        "    try:\n",
        "        kf = KFold(n_splits=5, shuffle=True, random_state=68)\n",
        "        reg = SGDRegressor(max_iter=1000, tol=1e-3)\n",
        "        cv_scores = cross_val_score(reg, X_train, y_train, cv=kf)\n",
        "        if cv_scores is not None:\n",
        "            cv_scores = [round(num, 3) for num in cv_scores]\n",
        "            print('Se obtienen los siguientes coeficientes de determinación:')\n",
        "            print(cv_scores, '\\n')\n",
        "            print(f'Max R-Squared: {max(cv_scores)}')\n",
        "            print(f'Min R-Squared: {min(cv_scores)}')\n",
        "            print('Promedio R-Squared: {:.3f}'.format(np.mean(cv_scores)))\n",
        "            print('Desviación Estándar: {:.3f}'.format(np.std(cv_scores)))\n",
        "            print(f'Intervalo de confianza 95%: {np.quantile(cv_scores, [0.025, 0.975])}')\n",
        "    except Exception as e:\n",
        "        print(e)\n",
        "\n",
        "\n",
        "y_pred = train_model(X_train, y_train, X_test, y_test)\n",
        "evaluate_regression_model(X, y)\n",
        "\n",
        "plt.plot(X_test, y_pred, linewidth=1.1)\n",
        "plt.plot(X, y, \"o\")\n",
        "plt.grid()\n",
        "plt.xlabel('Años')\n",
        "plt.ylabel('Segundos')\n",
        "plt.show()"
      ],
      "metadata": {
        "colab": {
          "base_uri": "https://localhost:8080/",
          "height": 640
        },
        "id": "2Fpp-CFBO5Ky",
        "outputId": "0b77a959-096b-4762-cd32-cc8f739da743"
      },
      "execution_count": null,
      "outputs": [
        {
          "output_type": "stream",
          "name": "stdout",
          "text": [
            "Entrenamiento SGD completado\n",
            "Score del conjunto de entrenamiento: -0.834\n",
            "Score del conjunto de prueba: -0.561\n",
            "Se obtienen los siguientes coeficientes de determinación:\n",
            "[-7.993, -7.82, -2.932, -5.552, -6.86] \n",
            "\n",
            "Max R-Squared: -2.932\n",
            "Min R-Squared: -7.993\n",
            "Promedio R-Squared: -6.231\n",
            "Desviación Estándar: 1.864\n",
            "Intervalo de confianza 95%: [-7.9757 -3.194 ]\n"
          ]
        },
        {
          "output_type": "display_data",
          "data": {
            "text/plain": [
              "<Figure size 640x480 with 1 Axes>"
            ],
            "image/png": "[encoded data removed]"
          },
          "metadata": {}
        }
      ]
    }
  ]
}
