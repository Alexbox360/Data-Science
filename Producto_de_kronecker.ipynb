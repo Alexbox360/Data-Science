{
  "nbformat": 4,
  "nbformat_minor": 0,
  "metadata": {
    "colab": {
      "provenance": [],
      "authorship_tag": "ABX9TyNZE3JpnS5c2ReG6i/qlZEA",
      "include_colab_link": true
    },
    "kernelspec": {
      "name": "python3",
      "display_name": "Python 3"
    },
    "language_info": {
      "name": "python"
    }
  },
  "cells": [
    {
      "cell_type": "markdown",
      "metadata": {
        "id": "view-in-github",
        "colab_type": "text"
      },
      "source": [
        "<a href=\"https://colab.research.google.com/github/Alexbox360/Data-Science/blob/main/Producto_de_kronecker.ipynb\" target=\"_parent\"><img src=\"https://colab.research.google.com/assets/colab-badge.svg\" alt=\"Open In Colab\"/></a>"
      ]
    },
    {
      "cell_type": "code",
      "execution_count": null,
      "metadata": {
        "id": "J1yqJzcF85cH"
      },
      "outputs": [],
      "source": [
        "import numpy as np"
      ]
    },
    {
      "cell_type": "code",
      "source": [
        "def Producto_de_Kronecker(M1, M2, r1, c1, r2, c2):\n",
        "  Mres = np.zeros([r1*r2, c1*c2])\n",
        "  Mres = np.kron(M1, M2)\n",
        "  return Mres\n",
        "\n",
        "def Datos():\n",
        "  try:\n",
        "      row1 = int(input('Número de filas de la primera matriz: '))\n",
        "      col1 = int(input('Número de columnas de la primera matriz: '))\n",
        "      M1 = np.zeros([row1, col1])\n",
        "      row2 = int(input('Número de filas de la segunda matriz: '))\n",
        "      col2 = int(input('Número de columnas de la segunda matriz: '))\n",
        "      M2 = np.zeros([row2, col2])\n",
        "      for i in range(row1):\n",
        "        for j in range(col1):\n",
        "          print('Para la primera matriz ingrese el valor de la posición',i , j)\n",
        "          M1[i,j] = float(input())\n",
        "      for i in range(row2):\n",
        "        for j in range(col2):\n",
        "          print('Para la segunda matriz ingrese el valor de la posición',i , j)\n",
        "          M2[i,j] = float(input())\n",
        "      return M1, M2, row1, col1, row2, col2\n",
        "  except (ValueError, IndexError):\n",
        "      print('Error al introducir los datos')\n",
        "\n",
        "M1, M2, r1, c1, r2, c2 = Datos()\n",
        "print('La matriz resultante es:\\n'Producto_de_Kronecker(M1,M2, r1, c1, r2, c2))"
      ],
      "metadata": {
        "colab": {
          "base_uri": "https://localhost:8080/"
        },
        "id": "jiUvhawZ9FNG",
        "outputId": "e767b8a9-3948-4c89-80df-cdc9ce621eb9"
      },
      "execution_count": null,
      "outputs": [
        {
          "output_type": "stream",
          "name": "stdout",
          "text": [
            "Número de filas de la primera matriz: 2\n",
            "Número de columnas de la primera matriz: 1\n",
            "Número de filas de la segunda matriz: 2\n",
            "Número de columnas de la segunda matriz: 1\n",
            "Para la primera matriz ingrese el valor de la posición 0 0\n",
            "1\n",
            "Para la primera matriz ingrese el valor de la posición 1 0\n",
            "0\n",
            "Para la segunda matriz ingrese el valor de la posición 0 0\n",
            "1\n",
            "Para la segunda matriz ingrese el valor de la posición 1 0\n",
            "0\n",
            "[[1.]\n",
            " [0.]\n",
            " [0.]\n",
            " [0.]]\n"
          ]
        }
      ]
    },
    {
      "cell_type": "code",
      "source": [],
      "metadata": {
        "id": "Wi9VCYIvBs9R"
      },
      "execution_count": null,
      "outputs": []
    }
  ]
}